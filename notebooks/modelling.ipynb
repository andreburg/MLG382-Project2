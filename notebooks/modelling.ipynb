{
 "cells": [
  {
   "cell_type": "markdown",
   "id": "f72c38ea-ccc2-42d4-afcf-eb56ccfb9161",
   "metadata": {},
   "source": [
    "Ensure that all of the required packages are installed."
   ]
  },
  {
   "cell_type": "code",
   "execution_count": 135,
   "id": "0fcfc7a4-d288-4d20-a0ed-5502460bb119",
   "metadata": {},
   "outputs": [
    {
     "name": "stdout",
     "output_type": "stream",
     "text": [
      "Requirement already satisfied: numpy in c:\\users\\andre\\documents\\projects\\ml\\ml-venv\\lib\\site-packages (1.26.4)\n",
      "Requirement already satisfied: pandas in c:\\users\\andre\\documents\\projects\\ml\\ml-venv\\lib\\site-packages (2.2.2)\n",
      "Requirement already satisfied: matplotlib in c:\\users\\andre\\documents\\projects\\ml\\ml-venv\\lib\\site-packages (3.8.4)\n",
      "Requirement already satisfied: seaborn in c:\\users\\andre\\documents\\projects\\ml\\ml-venv\\lib\\site-packages (0.13.2)\n",
      "Requirement already satisfied: nltk in c:\\users\\andre\\documents\\projects\\ml\\ml-venv\\lib\\site-packages (3.8.1)\n",
      "Requirement already satisfied: textblob in c:\\users\\andre\\documents\\projects\\ml\\ml-venv\\lib\\site-packages (0.18.0.post0)\n",
      "Requirement already satisfied: wordcloud in c:\\users\\andre\\documents\\projects\\ml\\ml-venv\\lib\\site-packages (1.9.3)\n",
      "Requirement already satisfied: python-dateutil>=2.8.2 in c:\\users\\andre\\documents\\projects\\ml\\ml-venv\\lib\\site-packages (from pandas) (2.9.0.post0)\n",
      "Requirement already satisfied: pytz>=2020.1 in c:\\users\\andre\\documents\\projects\\ml\\ml-venv\\lib\\site-packages (from pandas) (2024.1)\n",
      "Requirement already satisfied: tzdata>=2022.7 in c:\\users\\andre\\documents\\projects\\ml\\ml-venv\\lib\\site-packages (from pandas) (2024.1)\n",
      "Requirement already satisfied: contourpy>=1.0.1 in c:\\users\\andre\\documents\\projects\\ml\\ml-venv\\lib\\site-packages (from matplotlib) (1.2.1)\n",
      "Requirement already satisfied: cycler>=0.10 in c:\\users\\andre\\documents\\projects\\ml\\ml-venv\\lib\\site-packages (from matplotlib) (0.12.1)\n",
      "Requirement already satisfied: fonttools>=4.22.0 in c:\\users\\andre\\documents\\projects\\ml\\ml-venv\\lib\\site-packages (from matplotlib) (4.51.0)\n",
      "Requirement already satisfied: kiwisolver>=1.3.1 in c:\\users\\andre\\documents\\projects\\ml\\ml-venv\\lib\\site-packages (from matplotlib) (1.4.5)\n",
      "Requirement already satisfied: packaging>=20.0 in c:\\users\\andre\\documents\\projects\\ml\\ml-venv\\lib\\site-packages (from matplotlib) (24.0)\n",
      "Requirement already satisfied: pillow>=8 in c:\\users\\andre\\documents\\projects\\ml\\ml-venv\\lib\\site-packages (from matplotlib) (10.3.0)\n",
      "Requirement already satisfied: pyparsing>=2.3.1 in c:\\users\\andre\\documents\\projects\\ml\\ml-venv\\lib\\site-packages (from matplotlib) (3.1.2)\n",
      "Requirement already satisfied: click in c:\\users\\andre\\documents\\projects\\ml\\ml-venv\\lib\\site-packages (from nltk) (8.1.7)\n",
      "Requirement already satisfied: joblib in c:\\users\\andre\\documents\\projects\\ml\\ml-venv\\lib\\site-packages (from nltk) (1.4.2)\n",
      "Requirement already satisfied: regex>=2021.8.3 in c:\\users\\andre\\documents\\projects\\ml\\ml-venv\\lib\\site-packages (from nltk) (2024.5.10)\n",
      "Requirement already satisfied: tqdm in c:\\users\\andre\\documents\\projects\\ml\\ml-venv\\lib\\site-packages (from nltk) (4.66.4)\n",
      "Requirement already satisfied: six>=1.5 in c:\\users\\andre\\documents\\projects\\ml\\ml-venv\\lib\\site-packages (from python-dateutil>=2.8.2->pandas) (1.16.0)\n",
      "Requirement already satisfied: colorama in c:\\users\\andre\\documents\\projects\\ml\\ml-venv\\lib\\site-packages (from click->nltk) (0.4.6)\n"
     ]
    }
   ],
   "source": [
    "!pip install numpy pandas matplotlib seaborn nltk textblob wordcloud"
   ]
  },
  {
   "cell_type": "markdown",
   "id": "0111230d-9168-43d1-8851-243a43a58540",
   "metadata": {},
   "source": [
    "Import all necessary libraries and packages."
   ]
  },
  {
   "cell_type": "code",
   "execution_count": 1,
   "id": "767aaf3c-1f07-49dd-80c6-a7e0fbbc68a3",
   "metadata": {},
   "outputs": [],
   "source": [
    "import pandas as pd\n",
    "import numpy as np\n",
    "import matplotlib.pyplot as plt\n",
    "from matplotlib.ticker import MaxNLocator\n",
    "import seaborn as sns\n",
    "import re\n",
    "import nltk\n",
    "from nltk.corpus import stopwords\n",
    "from nltk.stem.porter import PorterStemmer\n",
    "from nltk.stem import WordNetLemmatizer\n",
    "from nltk.sentiment.vader import SentimentIntensityAnalyzer\n",
    "from nltk.tokenize import word_tokenize\n",
    "from wordcloud import WordCloud\n",
    "import string\n",
    "from collections import Counter\n",
    "import warnings\n",
    "import math\n",
    "warnings.simplefilter('ignore', category=Warning, lineno=0, append=False)\n",
    "# nltk.download('punkt')\n",
    "# nltk.download('stopwords')\n",
    "# nltk.download('wordnet')\n",
    "# nltk.download('vader_lexicon')"
   ]
  },
  {
   "cell_type": "markdown",
   "id": "c881c4db-b305-4078-880f-237068fcca7c",
   "metadata": {},
   "source": [
    "Load the data from our text file."
   ]
  },
  {
   "cell_type": "code",
   "execution_count": 3,
   "id": "d4e8ba77-4870-4ed5-be03-dd071046a01d",
   "metadata": {},
   "outputs": [
    {
     "data": {
      "text/html": [
       "<div>\n",
       "<style scoped>\n",
       "    .dataframe tbody tr th:only-of-type {\n",
       "        vertical-align: middle;\n",
       "    }\n",
       "\n",
       "    .dataframe tbody tr th {\n",
       "        vertical-align: top;\n",
       "    }\n",
       "\n",
       "    .dataframe thead th {\n",
       "        text-align: right;\n",
       "    }\n",
       "</style>\n",
       "<table border=\"1\" class=\"dataframe\">\n",
       "  <thead>\n",
       "    <tr style=\"text-align: right;\">\n",
       "      <th></th>\n",
       "      <th>reviewerName</th>\n",
       "      <th>overall</th>\n",
       "      <th>reviewText</th>\n",
       "      <th>reviewTime</th>\n",
       "      <th>day_diff</th>\n",
       "      <th>helpful_yes</th>\n",
       "      <th>helpful_no</th>\n",
       "      <th>total_vote</th>\n",
       "      <th>score_pos_neg_diff</th>\n",
       "      <th>score_average_rating</th>\n",
       "      <th>wilson_lower_bound</th>\n",
       "    </tr>\n",
       "  </thead>\n",
       "  <tbody>\n",
       "    <tr>\n",
       "      <th>0</th>\n",
       "      <td>NaN</td>\n",
       "      <td>4.0</td>\n",
       "      <td>No issues.</td>\n",
       "      <td>2014-07-23</td>\n",
       "      <td>138</td>\n",
       "      <td>0</td>\n",
       "      <td>0</td>\n",
       "      <td>0</td>\n",
       "      <td>0</td>\n",
       "      <td>0.0</td>\n",
       "      <td>0.0</td>\n",
       "    </tr>\n",
       "    <tr>\n",
       "      <th>1</th>\n",
       "      <td>0mie</td>\n",
       "      <td>5.0</td>\n",
       "      <td>Purchased this for my device, it worked as adv...</td>\n",
       "      <td>2013-10-25</td>\n",
       "      <td>409</td>\n",
       "      <td>0</td>\n",
       "      <td>0</td>\n",
       "      <td>0</td>\n",
       "      <td>0</td>\n",
       "      <td>0.0</td>\n",
       "      <td>0.0</td>\n",
       "    </tr>\n",
       "    <tr>\n",
       "      <th>2</th>\n",
       "      <td>1K3</td>\n",
       "      <td>4.0</td>\n",
       "      <td>it works as expected. I should have sprung for...</td>\n",
       "      <td>2012-12-23</td>\n",
       "      <td>715</td>\n",
       "      <td>0</td>\n",
       "      <td>0</td>\n",
       "      <td>0</td>\n",
       "      <td>0</td>\n",
       "      <td>0.0</td>\n",
       "      <td>0.0</td>\n",
       "    </tr>\n",
       "    <tr>\n",
       "      <th>3</th>\n",
       "      <td>1m2</td>\n",
       "      <td>5.0</td>\n",
       "      <td>This think has worked out great.Had a diff. br...</td>\n",
       "      <td>2013-11-21</td>\n",
       "      <td>382</td>\n",
       "      <td>0</td>\n",
       "      <td>0</td>\n",
       "      <td>0</td>\n",
       "      <td>0</td>\n",
       "      <td>0.0</td>\n",
       "      <td>0.0</td>\n",
       "    </tr>\n",
       "    <tr>\n",
       "      <th>4</th>\n",
       "      <td>2&amp;amp;1/2Men</td>\n",
       "      <td>5.0</td>\n",
       "      <td>Bought it with Retail Packaging, arrived legit...</td>\n",
       "      <td>2013-07-13</td>\n",
       "      <td>513</td>\n",
       "      <td>0</td>\n",
       "      <td>0</td>\n",
       "      <td>0</td>\n",
       "      <td>0</td>\n",
       "      <td>0.0</td>\n",
       "      <td>0.0</td>\n",
       "    </tr>\n",
       "  </tbody>\n",
       "</table>\n",
       "</div>"
      ],
      "text/plain": [
       "   reviewerName  overall                                         reviewText  \\\n",
       "0           NaN      4.0                                         No issues.   \n",
       "1          0mie      5.0  Purchased this for my device, it worked as adv...   \n",
       "2           1K3      4.0  it works as expected. I should have sprung for...   \n",
       "3           1m2      5.0  This think has worked out great.Had a diff. br...   \n",
       "4  2&amp;1/2Men      5.0  Bought it with Retail Packaging, arrived legit...   \n",
       "\n",
       "   reviewTime  day_diff  helpful_yes  helpful_no  total_vote  \\\n",
       "0  2014-07-23       138            0           0           0   \n",
       "1  2013-10-25       409            0           0           0   \n",
       "2  2012-12-23       715            0           0           0   \n",
       "3  2013-11-21       382            0           0           0   \n",
       "4  2013-07-13       513            0           0           0   \n",
       "\n",
       "   score_pos_neg_diff  score_average_rating  wilson_lower_bound  \n",
       "0                   0                   0.0                 0.0  \n",
       "1                   0                   0.0                 0.0  \n",
       "2                   0                   0.0                 0.0  \n",
       "3                   0                   0.0                 0.0  \n",
       "4                   0                   0.0                 0.0  "
      ]
     },
     "execution_count": 3,
     "metadata": {},
     "output_type": "execute_result"
    }
   ],
   "source": [
    "data = pd.read_csv('../data/amazon_reviews.csv', index_col='Unnamed: 0')\n",
    "data.head()"
   ]
  },
  {
   "cell_type": "code",
   "execution_count": 138,
   "id": "09b23996-a24c-4580-8f72-aa1d0eec7883",
   "metadata": {},
   "outputs": [
    {
     "name": "stdout",
     "output_type": "stream",
     "text": [
      "<class 'pandas.core.frame.DataFrame'>\n",
      "Index: 4915 entries, 0 to 4914\n",
      "Data columns (total 11 columns):\n",
      " #   Column                Non-Null Count  Dtype  \n",
      "---  ------                --------------  -----  \n",
      " 0   reviewerName          4914 non-null   object \n",
      " 1   overall               4915 non-null   float64\n",
      " 2   reviewText            4914 non-null   object \n",
      " 3   reviewTime            4915 non-null   object \n",
      " 4   day_diff              4915 non-null   int64  \n",
      " 5   helpful_yes           4915 non-null   int64  \n",
      " 6   helpful_no            4915 non-null   int64  \n",
      " 7   total_vote            4915 non-null   int64  \n",
      " 8   score_pos_neg_diff    4915 non-null   int64  \n",
      " 9   score_average_rating  4915 non-null   float64\n",
      " 10  wilson_lower_bound    4915 non-null   float64\n",
      "dtypes: float64(3), int64(5), object(3)\n",
      "memory usage: 460.8+ KB\n"
     ]
    }
   ],
   "source": [
    "data.info()"
   ]
  },
  {
   "cell_type": "code",
   "execution_count": 139,
   "id": "85228b79-4e3d-49a2-a57c-a9b8de9e8e9b",
   "metadata": {},
   "outputs": [
    {
     "name": "stdout",
     "output_type": "stream",
     "text": [
      "column null values\n",
      "=========================\n",
      "reviewerName            1\n",
      "overall                 0\n",
      "reviewText              1\n",
      "reviewTime              0\n",
      "day_diff                0\n",
      "helpful_yes             0\n",
      "helpful_no              0\n",
      "total_vote              0\n",
      "score_pos_neg_diff      0\n",
      "score_average_rating    0\n",
      "wilson_lower_bound      0\n",
      "dtype: int64\n"
     ]
    }
   ],
   "source": [
    "print_null = lambda: print(\"column null values\" + \"\\n\" + \"=\"*25 + \"\\n\" + str(data.isnull().sum()))\n",
    "print_null()"
   ]
  },
  {
   "cell_type": "markdown",
   "id": "34d65a05-5058-4cd1-9660-152a667c9a79",
   "metadata": {},
   "source": [
    "The primary data we want to look at is the `reviewText` if the field is missing, the data is useless, for that reason we will drop the rows with missing data."
   ]
  },
  {
   "cell_type": "code",
   "execution_count": 140,
   "id": "e669af4b-9a2e-4bc7-ae9e-eadb20cd790e",
   "metadata": {},
   "outputs": [],
   "source": [
    "data = data.dropna(subset=['reviewText'])"
   ]
  },
  {
   "cell_type": "markdown",
   "id": "194326d5-7b9c-415c-8bad-a902418588e2",
   "metadata": {},
   "source": [
    "What does the ratings look like, what are the range of score, and is it restricted to integers, or does the user have the flexibilty to make it whatever they want?"
   ]
  },
  {
   "cell_type": "code",
   "execution_count": 141,
   "id": "1fb8f9ab-4238-4b5c-a119-c045d8f0b4cd",
   "metadata": {},
   "outputs": [
    {
     "data": {
      "text/plain": [
       "overall\n",
       "5.0    3921\n",
       "4.0     527\n",
       "1.0     244\n",
       "3.0     142\n",
       "2.0      80\n",
       "Name: count, dtype: int64"
      ]
     },
     "execution_count": 141,
     "metadata": {},
     "output_type": "execute_result"
    }
   ],
   "source": [
    "data['overall'].value_counts()"
   ]
  },
  {
   "cell_type": "markdown",
   "id": "af7b8075-8acf-4d4a-8691-4cc72e610d6b",
   "metadata": {},
   "source": [
    "The ratings is scaled from 1 to 5 and are integer values"
   ]
  },
  {
   "cell_type": "code",
   "execution_count": 142,
   "id": "461c2a40-1192-42ff-bd16-b7d5aa7c2a30",
   "metadata": {},
   "outputs": [],
   "source": [
    "data.overall = data.overall.astype(int)"
   ]
  },
  {
   "cell_type": "code",
   "execution_count": 143,
   "id": "b83fe441-b82c-4914-b278-636570dfe711",
   "metadata": {},
   "outputs": [
    {
     "data": {
      "image/png": "[encoded data removed]",
      "text/plain": [
       "<Figure size 640x480 with 1 Axes>"
      ]
     },
     "metadata": {},
     "output_type": "display_data"
    }
   ],
   "source": [
    "sns.countplot(data=data, x='overall') \n",
    "plt.ylabel('Frequency')\n",
    "plt.xlabel('Overall Rating')\n",
    "plt.show()"
   ]
  },
  {
   "cell_type": "code",
   "execution_count": 144,
   "id": "4c3712e3-2dfa-46fd-8374-750d33b36e52",
   "metadata": {},
   "outputs": [
    {
     "data": {
      "image/png": "[encoded data removed]",
      "text/plain": [
       "<Figure size 640x480 with 1 Axes>"
      ]
     },
     "metadata": {},
     "output_type": "display_data"
    }
   ],
   "source": [
    "sns.histplot(x=data.reviewText.apply(lambda text: len(text.split(\" \"))), kde=True)\n",
    "plt.xlabel('Word Count')\n",
    "plt.xlabel('Frequency')\n",
    "plt.show()"
   ]
  },
  {
   "cell_type": "code",
   "execution_count": 145,
   "id": "f9061836-52a5-4133-b8ff-00345a0cb7ac",
   "metadata": {},
   "outputs": [
    {
     "data": {
      "image/png": "[encoded data removed]",
      "text/plain": [
       "<Figure size 640x480 with 1 Axes>"
      ]
     },
     "metadata": {},
     "output_type": "display_data"
    }
   ],
   "source": [
    "sns.boxplot(x=data.overall, y=data.reviewText.apply(lambda text: len(text.split(\" \"))))\n",
    "plt.ylabel('Word Count')\n",
    "plt.xlabel('Overall Rating')\n",
    "plt.show()"
   ]
  },
  {
   "cell_type": "code",
   "execution_count": 171,
   "id": "010aeda9-47a5-46b9-8148-54a8ce307481",
   "metadata": {},
   "outputs": [],
   "source": [
    "print_center = lambda text, chars, char: f' {str(text)} '.center(chars, char)\n",
    "print_padding = lambda text, chars, char: str(' '*chars) + '\\n' + str(print_center(text, chars, char)) + '\\n' + str(' '*chars)\n",
    "print_border_bottom = lambda text, chars, char: str(text) + '\\n' +  str(char*chars)\n",
    "print_border_top = lambda text, chars, char: str(text) + '\\n' +  str(char*chars)\n",
    "def print_example():\n",
    "        chars = 150\n",
    "        print(print_border_bottom(print_border_bottom(print_center('EXAMPLE TRANSFORMATION', chars, '~'), chars, '|'), chars, ' '))\n",
    "            \n",
    "        print(print_border_bottom(print_center('CLEANING TEXT...', chars, '~'), chars, \"-\"))\n",
    "        print(print_padding(cleaned_text, chars, ' '))\n",
    "\n",
    "        print(print_border_bottom(print_center('TOKENIZING...', chars, '~'), chars, \"-\"))\n",
    "        print(print_padding(tokenized_sentence, chars, ' '))\n",
    "        \n",
    "        print(print_border_bottom(print_center('REMOVING STOPWORDS...', chars, '~'), chars, \"-\"))\n",
    "        print(print_padding(removed_stopwords, chars, ' '))\n",
    "        \n",
    "        print(print_border_bottom(print_center('LEMAMATIZING WORDS...', chars, '~'), chars, \"-\"))\n",
    "        print(print_padding(final_text, chars, ' '))"
   ]
  },
  {
   "cell_type": "code",
   "execution_count": 172,
   "id": "7fb4fcd5-dba0-4cce-84d0-cdc8c01ba7de",
   "metadata": {},
   "outputs": [],
   "source": [
    "replace_apostrophe = lambda text: re.sub(r\"'\", '', text)\n",
    "replace_punctuation = lambda text: re.sub(rf'[{string.punctuation}]', ' ', text)\n",
    "remove_excess_spaces = lambda text: re.sub(rf'[{string.punctuation}]', ' ', text).strip()\n",
    "\n",
    "clean_text = lambda text: remove_excess_spaces(replace_punctuation(replace_apostrophe(text.lower())))\n",
    "\n",
    "#=================================================================================================================================\n",
    "\n",
    "tokenize_sentence = lambda sentence: nltk.word_tokenize(sentence)\n",
    "remove_stopwords = lambda tokenized_sentence: [word for word in tokenized_sentence if word not in set(stopwords.words('english'))]\n",
    "remove_rare_words = lambda tokenized_sentence, word_counts: [word for word in tokenized_sentence if word not in word_counts[word_counts <= 1]]\n",
    "lemamatize_words = lambda tokenized_sentence: [WordNetLemmatizer().lemmatize(word) for word in tokenized_sentence]\n",
    "stem_text = lambda tokenized_sentence: [PorterStemmer().stem(word) for word in tokenized_sentence]\n",
    "\n",
    "def transform_text(data):\n",
    "    data = data.apply(clean_text)\n",
    "    print(data.head(5))\n",
    "    data = data.apply(tokenize_sentence)\n",
    "    print(data.head(5))\n",
    "    data = data.apply(remove_stopwords)\n",
    "    print(data.head(5))\n",
    "    word_counts = pd.Series([word for sentence in data for word in sentence]).value_counts()\n",
    "    data = data.apply(lambda tokenized_sentence: remove_rare_words(tokenized_sentence, word_counts))\n",
    "    print(data.head(5))\n",
    "    data = data.apply(lemamatize_words)\n",
    "    print(data.head(5))\n",
    "    return data"
   ]
  },
  {
   "cell_type": "code",
   "execution_count": 173,
   "id": "36cf2370-935d-4ac0-b371-3396ac20ff74",
   "metadata": {},
   "outputs": [],
   "source": [
    "get_vocabulary = lambda tokenized_sentences: set([word for text in tokenized_sentences for word in text])"
   ]
  },
  {
   "cell_type": "code",
   "execution_count": 174,
   "id": "2d35252b-2dd6-43d7-9a65-f9a9afe15c15",
   "metadata": {},
   "outputs": [
    {
     "name": "stdout",
     "output_type": "stream",
     "text": [
      "0                                            no issues\n",
      "1    purchased this for my device  it worked as adv...\n",
      "2    it works as expected  i should have sprung for...\n",
      "3    this think has worked out great had a diff  br...\n",
      "4    bought it with retail packaging  arrived legit...\n",
      "Name: reviewText, dtype: object\n",
      "0                                         [no, issues]\n",
      "1    [purchased, this, for, my, device, it, worked,...\n",
      "2    [it, works, as, expected, i, should, have, spr...\n",
      "3    [this, think, has, worked, out, great, had, a,...\n",
      "4    [bought, it, with, retail, packaging, arrived,...\n",
      "Name: reviewText, dtype: object\n",
      "0                                             [issues]\n",
      "1    [purchased, device, worked, advertised, never,...\n",
      "2    [works, expected, sprung, higher, capacity, th...\n",
      "3    [think, worked, great, diff, bran, 64gb, card,...\n",
      "4    [bought, retail, packaging, arrived, legit, or...\n",
      "Name: reviewText, dtype: object\n",
      "0                                             [issues]\n",
      "1    [purchased, device, worked, advertised, never,...\n",
      "2    [works, expected, higher, capacity, think, mad...\n",
      "3    [think, worked, great, 64gb, card, went, south...\n",
      "4    [bought, retail, packaging, arrived, legit, en...\n",
      "Name: reviewText, dtype: object\n",
      "0                                              [issue]\n",
      "1    [purchased, device, worked, advertised, never,...\n",
      "2    [work, expected, higher, capacity, think, made...\n",
      "3    [think, worked, great, 64gb, card, went, south...\n",
      "4    [bought, retail, packaging, arrived, legit, en...\n",
      "Name: reviewText, dtype: object\n"
     ]
    },
    {
     "data": {
      "text/plain": [
       "0                                              [issue]\n",
       "1    [purchased, device, worked, advertised, never,...\n",
       "2    [work, expected, higher, capacity, think, made...\n",
       "3    [think, worked, great, 64gb, card, went, south...\n",
       "4    [bought, retail, packaging, arrived, legit, en...\n",
       "Name: reviewText, dtype: object"
      ]
     },
     "execution_count": 174,
     "metadata": {},
     "output_type": "execute_result"
    }
   ],
   "source": [
    "data.reviewText = transform_text(data.reviewText)\n",
    "data.head(5).reviewText"
   ]
  },
  {
   "cell_type": "code",
   "execution_count": 126,
   "id": "7de846cd-607f-4f6d-b7f5-5bdf92a779e7",
   "metadata": {},
   "outputs": [],
   "source": [
    "vocabulary = get_vocabulary(data.reviewText)"
   ]
  },
  {
   "cell_type": "code",
   "execution_count": 130,
   "id": "0d60b6fd-4f42-4898-8130-15d92653826f",
   "metadata": {},
   "outputs": [
    {
     "data": {
      "image/png": "[encoded data removed]",
      "text/plain": [
       "<Figure size 640x480 with 1 Axes>"
      ]
     },
     "metadata": {},
     "output_type": "display_data"
    }
   ],
   "source": [
    "word_counts = pd.Series([word for sentence in data.reviewText for word in sentence]).value_counts().sort_values(ascending=False)\n",
    "sns.barplot(x=word_counts[:35].keys(), y=word_counts[:35].values)\n",
    "plt.xticks(rotation=90, fontsize=7)\n",
    "plt.xlabel(\"Word\")\n",
    "plt.ylabel(\"Count\")\n",
    "plt.show()"
   ]
  },
  {
   "cell_type": "code",
   "execution_count": 131,
   "id": "b4b08429-ece2-4f00-b33f-5fd2cbadc9ff",
   "metadata": {},
   "outputs": [
    {
     "data": {
      "text/plain": [
       "alien        1\n",
       "weighing     1\n",
       "beatable     1\n",
       "4th          1\n",
       "frozen       1\n",
       "            ..\n",
       "atrocious    1\n",
       "11mb         1\n",
       "east         1\n",
       "inflated     1\n",
       "sk           1\n",
       "Name: count, Length: 3731, dtype: int64"
      ]
     },
     "execution_count": 131,
     "metadata": {},
     "output_type": "execute_result"
    }
   ],
   "source": [
    "word_counts[word_counts <= 1]"
   ]
  },
  {
   "cell_type": "code",
   "execution_count": null,
   "id": "6ebc4bd6-9d9a-40f0-8c31-48765b0fd7f0",
   "metadata": {},
   "outputs": [],
   "source": [
    "wordcloud = WordCloud(width=800, height=400, background_color='white').generate(\" \".join([word for sentence in data.reviewText for word in sentence]))\n",
    "plt.figure(figsize=(10, 5))\n",
    "plt.imshow(wordcloud, interpolation='bilinear')\n",
    "plt.axis('off')\n",
    "plt.show()"
   ]
  },
  {
   "cell_type": "code",
   "execution_count": null,
   "id": "0246ed8e-2aef-42b9-8961-eeb593172a1f",
   "metadata": {},
   "outputs": [],
   "source": []
  }
 ],
 "metadata": {
  "kernelspec": {
   "display_name": "MachineLearning",
   "language": "python",
   "name": "python3"
  },
  "language_info": {
   "codemirror_mode": {
    "name": "ipython",
    "version": 3
   },
   "file_extension": ".py",
   "mimetype": "text/x-python",
   "name": "python",
   "nbconvert_exporter": "python",
   "pygments_lexer": "ipython3",
   "version": "3.12.3"
  }
 },
 "nbformat": 4,
 "nbformat_minor": 5
}
