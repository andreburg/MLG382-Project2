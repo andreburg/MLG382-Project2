{
 "cells": [
  {
   "cell_type": "markdown",
   "id": "f72c38ea-ccc2-42d4-afcf-eb56ccfb9161",
   "metadata": {},
   "source": [
    "Ensure that all of the required packages are installed."
   ]
  },
  {
   "cell_type": "code",
   "execution_count": 172,
   "id": "0fcfc7a4-d288-4d20-a0ed-5502460bb119",
   "metadata": {},
   "outputs": [
    {
     "name": "stdout",
     "output_type": "stream",
     "text": [
      "Requirement already satisfied: numpy in c:\\users\\andre\\documents\\projects\\ml\\mlg382-project2\\mlg-venv\\lib\\site-packages (1.26.4)\n",
      "Requirement already satisfied: pandas in c:\\users\\andre\\documents\\projects\\ml\\mlg382-project2\\mlg-venv\\lib\\site-packages (2.2.2)\n",
      "Requirement already satisfied: matplotlib in c:\\users\\andre\\documents\\projects\\ml\\mlg382-project2\\mlg-venv\\lib\\site-packages (3.8.4)\n",
      "Requirement already satisfied: seaborn in c:\\users\\andre\\documents\\projects\\ml\\mlg382-project2\\mlg-venv\\lib\\site-packages (0.13.2)\n",
      "Requirement already satisfied: nltk in c:\\users\\andre\\documents\\projects\\ml\\mlg382-project2\\mlg-venv\\lib\\site-packages (3.8.1)\n",
      "Requirement already satisfied: textblob in c:\\users\\andre\\documents\\projects\\ml\\mlg382-project2\\mlg-venv\\lib\\site-packages (0.18.0.post0)\n",
      "Requirement already satisfied: python-dateutil>=2.8.2 in c:\\users\\andre\\documents\\projects\\ml\\mlg382-project2\\mlg-venv\\lib\\site-packages (from pandas) (2.9.0.post0)\n",
      "Requirement already satisfied: pytz>=2020.1 in c:\\users\\andre\\documents\\projects\\ml\\mlg382-project2\\mlg-venv\\lib\\site-packages (from pandas) (2024.1)\n",
      "Requirement already satisfied: tzdata>=2022.7 in c:\\users\\andre\\documents\\projects\\ml\\mlg382-project2\\mlg-venv\\lib\\site-packages (from pandas) (2024.1)\n",
      "Requirement already satisfied: contourpy>=1.0.1 in c:\\users\\andre\\documents\\projects\\ml\\mlg382-project2\\mlg-venv\\lib\\site-packages (from matplotlib) (1.2.1)\n",
      "Requirement already satisfied: cycler>=0.10 in c:\\users\\andre\\documents\\projects\\ml\\mlg382-project2\\mlg-venv\\lib\\site-packages (from matplotlib) (0.12.1)\n",
      "Requirement already satisfied: fonttools>=4.22.0 in c:\\users\\andre\\documents\\projects\\ml\\mlg382-project2\\mlg-venv\\lib\\site-packages (from matplotlib) (4.51.0)\n",
      "Requirement already satisfied: kiwisolver>=1.3.1 in c:\\users\\andre\\documents\\projects\\ml\\mlg382-project2\\mlg-venv\\lib\\site-packages (from matplotlib) (1.4.5)\n",
      "Requirement already satisfied: packaging>=20.0 in c:\\users\\andre\\documents\\projects\\ml\\mlg382-project2\\mlg-venv\\lib\\site-packages (from matplotlib) (24.0)\n",
      "Requirement already satisfied: pillow>=8 in c:\\users\\andre\\documents\\projects\\ml\\mlg382-project2\\mlg-venv\\lib\\site-packages (from matplotlib) (10.3.0)\n",
      "Requirement already satisfied: pyparsing>=2.3.1 in c:\\users\\andre\\documents\\projects\\ml\\mlg382-project2\\mlg-venv\\lib\\site-packages (from matplotlib) (3.1.2)\n",
      "Requirement already satisfied: click in c:\\users\\andre\\documents\\projects\\ml\\mlg382-project2\\mlg-venv\\lib\\site-packages (from nltk) (8.1.7)\n",
      "Requirement already satisfied: joblib in c:\\users\\andre\\documents\\projects\\ml\\mlg382-project2\\mlg-venv\\lib\\site-packages (from nltk) (1.4.2)\n",
      "Requirement already satisfied: regex>=2021.8.3 in c:\\users\\andre\\documents\\projects\\ml\\mlg382-project2\\mlg-venv\\lib\\site-packages (from nltk) (2024.5.10)\n",
      "Requirement already satisfied: tqdm in c:\\users\\andre\\documents\\projects\\ml\\mlg382-project2\\mlg-venv\\lib\\site-packages (from nltk) (4.66.4)\n",
      "Requirement already satisfied: six>=1.5 in c:\\users\\andre\\documents\\projects\\ml\\mlg382-project2\\mlg-venv\\lib\\site-packages (from python-dateutil>=2.8.2->pandas) (1.16.0)\n",
      "Requirement already satisfied: colorama in c:\\users\\andre\\documents\\projects\\ml\\mlg382-project2\\mlg-venv\\lib\\site-packages (from click->nltk) (0.4.6)\n"
     ]
    }
   ],
   "source": [
    "!pip install numpy pandas matplotlib seaborn nltk textblob"
   ]
  },
  {
   "cell_type": "markdown",
   "id": "0111230d-9168-43d1-8851-243a43a58540",
   "metadata": {},
   "source": [
    "Import all necessary libraries and packages."
   ]
  },
  {
   "cell_type": "code",
   "execution_count": 173,
   "id": "767aaf3c-1f07-49dd-80c6-a7e0fbbc68a3",
   "metadata": {},
   "outputs": [],
   "source": [
    "import pandas as pd\n",
    "import numpy as np\n",
    "import matplotlib.pyplot as plt\n",
    "from matplotlib.ticker import MaxNLocator\n",
    "import seaborn as sns\n",
    "import re\n",
    "import nltk\n",
    "from nltk.corpus import stopwords\n",
    "from nltk.stem.porter import PorterStemmer\n",
    "from nltk.stem import WordNetLemmatizer\n",
    "from nltk.sentiment.vader import SentimentIntensityAnalyzer\n",
    "from nltk.tokenize import word_tokenize\n",
    "import string\n",
    "from collections import Counter"
   ]
  },
  {
   "cell_type": "markdown",
   "id": "c881c4db-b305-4078-880f-237068fcca7c",
   "metadata": {},
   "source": [
    "Load the data from our text file."
   ]
  },
  {
   "cell_type": "code",
   "execution_count": 174,
   "id": "d4e8ba77-4870-4ed5-be03-dd071046a01d",
   "metadata": {},
   "outputs": [
    {
     "data": {
      "text/html": [
       "<div>\n",
       "<style scoped>\n",
       "    .dataframe tbody tr th:only-of-type {\n",
       "        vertical-align: middle;\n",
       "    }\n",
       "\n",
       "    .dataframe tbody tr th {\n",
       "        vertical-align: top;\n",
       "    }\n",
       "\n",
       "    .dataframe thead th {\n",
       "        text-align: right;\n",
       "    }\n",
       "</style>\n",
       "<table border=\"1\" class=\"dataframe\">\n",
       "  <thead>\n",
       "    <tr style=\"text-align: right;\">\n",
       "      <th></th>\n",
       "      <th>reviewerName</th>\n",
       "      <th>overall</th>\n",
       "      <th>reviewText</th>\n",
       "      <th>reviewTime</th>\n",
       "      <th>day_diff</th>\n",
       "      <th>helpful_yes</th>\n",
       "      <th>helpful_no</th>\n",
       "      <th>total_vote</th>\n",
       "      <th>score_pos_neg_diff</th>\n",
       "      <th>score_average_rating</th>\n",
       "      <th>wilson_lower_bound</th>\n",
       "    </tr>\n",
       "  </thead>\n",
       "  <tbody>\n",
       "    <tr>\n",
       "      <th>0</th>\n",
       "      <td>NaN</td>\n",
       "      <td>4.0</td>\n",
       "      <td>No issues.</td>\n",
       "      <td>2014-07-23</td>\n",
       "      <td>138</td>\n",
       "      <td>0</td>\n",
       "      <td>0</td>\n",
       "      <td>0</td>\n",
       "      <td>0</td>\n",
       "      <td>0.0</td>\n",
       "      <td>0.0</td>\n",
       "    </tr>\n",
       "    <tr>\n",
       "      <th>1</th>\n",
       "      <td>0mie</td>\n",
       "      <td>5.0</td>\n",
       "      <td>Purchased this for my device, it worked as adv...</td>\n",
       "      <td>2013-10-25</td>\n",
       "      <td>409</td>\n",
       "      <td>0</td>\n",
       "      <td>0</td>\n",
       "      <td>0</td>\n",
       "      <td>0</td>\n",
       "      <td>0.0</td>\n",
       "      <td>0.0</td>\n",
       "    </tr>\n",
       "    <tr>\n",
       "      <th>2</th>\n",
       "      <td>1K3</td>\n",
       "      <td>4.0</td>\n",
       "      <td>it works as expected. I should have sprung for...</td>\n",
       "      <td>2012-12-23</td>\n",
       "      <td>715</td>\n",
       "      <td>0</td>\n",
       "      <td>0</td>\n",
       "      <td>0</td>\n",
       "      <td>0</td>\n",
       "      <td>0.0</td>\n",
       "      <td>0.0</td>\n",
       "    </tr>\n",
       "    <tr>\n",
       "      <th>3</th>\n",
       "      <td>1m2</td>\n",
       "      <td>5.0</td>\n",
       "      <td>This think has worked out great.Had a diff. br...</td>\n",
       "      <td>2013-11-21</td>\n",
       "      <td>382</td>\n",
       "      <td>0</td>\n",
       "      <td>0</td>\n",
       "      <td>0</td>\n",
       "      <td>0</td>\n",
       "      <td>0.0</td>\n",
       "      <td>0.0</td>\n",
       "    </tr>\n",
       "    <tr>\n",
       "      <th>4</th>\n",
       "      <td>2&amp;amp;1/2Men</td>\n",
       "      <td>5.0</td>\n",
       "      <td>Bought it with Retail Packaging, arrived legit...</td>\n",
       "      <td>2013-07-13</td>\n",
       "      <td>513</td>\n",
       "      <td>0</td>\n",
       "      <td>0</td>\n",
       "      <td>0</td>\n",
       "      <td>0</td>\n",
       "      <td>0.0</td>\n",
       "      <td>0.0</td>\n",
       "    </tr>\n",
       "  </tbody>\n",
       "</table>\n",
       "</div>"
      ],
      "text/plain": [
       "   reviewerName  overall                                         reviewText  \\\n",
       "0           NaN      4.0                                         No issues.   \n",
       "1          0mie      5.0  Purchased this for my device, it worked as adv...   \n",
       "2           1K3      4.0  it works as expected. I should have sprung for...   \n",
       "3           1m2      5.0  This think has worked out great.Had a diff. br...   \n",
       "4  2&amp;1/2Men      5.0  Bought it with Retail Packaging, arrived legit...   \n",
       "\n",
       "   reviewTime  day_diff  helpful_yes  helpful_no  total_vote  \\\n",
       "0  2014-07-23       138            0           0           0   \n",
       "1  2013-10-25       409            0           0           0   \n",
       "2  2012-12-23       715            0           0           0   \n",
       "3  2013-11-21       382            0           0           0   \n",
       "4  2013-07-13       513            0           0           0   \n",
       "\n",
       "   score_pos_neg_diff  score_average_rating  wilson_lower_bound  \n",
       "0                   0                   0.0                 0.0  \n",
       "1                   0                   0.0                 0.0  \n",
       "2                   0                   0.0                 0.0  \n",
       "3                   0                   0.0                 0.0  \n",
       "4                   0                   0.0                 0.0  "
      ]
     },
     "execution_count": 174,
     "metadata": {},
     "output_type": "execute_result"
    }
   ],
   "source": [
    "data = pd.read_csv('../data/amazon_reviews.csv', index_col='Unnamed: 0')\n",
    "data.head()"
   ]
  },
  {
   "cell_type": "code",
   "execution_count": 175,
   "id": "09b23996-a24c-4580-8f72-aa1d0eec7883",
   "metadata": {},
   "outputs": [
    {
     "name": "stdout",
     "output_type": "stream",
     "text": [
      "<class 'pandas.core.frame.DataFrame'>\n",
      "Index: 4915 entries, 0 to 4914\n",
      "Data columns (total 11 columns):\n",
      " #   Column                Non-Null Count  Dtype  \n",
      "---  ------                --------------  -----  \n",
      " 0   reviewerName          4914 non-null   object \n",
      " 1   overall               4915 non-null   float64\n",
      " 2   reviewText            4914 non-null   object \n",
      " 3   reviewTime            4915 non-null   object \n",
      " 4   day_diff              4915 non-null   int64  \n",
      " 5   helpful_yes           4915 non-null   int64  \n",
      " 6   helpful_no            4915 non-null   int64  \n",
      " 7   total_vote            4915 non-null   int64  \n",
      " 8   score_pos_neg_diff    4915 non-null   int64  \n",
      " 9   score_average_rating  4915 non-null   float64\n",
      " 10  wilson_lower_bound    4915 non-null   float64\n",
      "dtypes: float64(3), int64(5), object(3)\n",
      "memory usage: 460.8+ KB\n"
     ]
    }
   ],
   "source": [
    "data.info()"
   ]
  },
  {
   "cell_type": "code",
   "execution_count": 176,
   "id": "85228b79-4e3d-49a2-a57c-a9b8de9e8e9b",
   "metadata": {},
   "outputs": [
    {
     "name": "stdout",
     "output_type": "stream",
     "text": [
      "column null values\n",
      "=========================\n",
      "reviewerName            1\n",
      "overall                 0\n",
      "reviewText              1\n",
      "reviewTime              0\n",
      "day_diff                0\n",
      "helpful_yes             0\n",
      "helpful_no              0\n",
      "total_vote              0\n",
      "score_pos_neg_diff      0\n",
      "score_average_rating    0\n",
      "wilson_lower_bound      0\n",
      "dtype: int64\n"
     ]
    }
   ],
   "source": [
    "print_null = lambda: print(\"column null values\" + \"\\n\" + \"=\"*25 + \"\\n\" + str(data.isnull().sum()))\n",
    "print_null()"
   ]
  },
  {
   "cell_type": "markdown",
   "id": "34d65a05-5058-4cd1-9660-152a667c9a79",
   "metadata": {},
   "source": [
    "The primary data we want to look at is the `reviewText` if the field is missing, the data is useless, for that reason we will drop the rows with missing data."
   ]
  },
  {
   "cell_type": "code",
   "execution_count": 177,
   "id": "e669af4b-9a2e-4bc7-ae9e-eadb20cd790e",
   "metadata": {},
   "outputs": [],
   "source": [
    "data = data.dropna(subset=['reviewText'])"
   ]
  },
  {
   "cell_type": "markdown",
   "id": "194326d5-7b9c-415c-8bad-a902418588e2",
   "metadata": {},
   "source": [
    "What does the ratings look like, what are the range of score, and is it restricted to integers, or does the user have the flexibilty to make it whatever they want?"
   ]
  },
  {
   "cell_type": "code",
   "execution_count": 178,
   "id": "1fb8f9ab-4238-4b5c-a119-c045d8f0b4cd",
   "metadata": {},
   "outputs": [
    {
     "data": {
      "text/plain": [
       "overall\n",
       "5.0    3921\n",
       "4.0     527\n",
       "1.0     244\n",
       "3.0     142\n",
       "2.0      80\n",
       "Name: count, dtype: int64"
      ]
     },
     "execution_count": 178,
     "metadata": {},
     "output_type": "execute_result"
    }
   ],
   "source": [
    "data['overall'].value_counts()"
   ]
  },
  {
   "cell_type": "markdown",
   "id": "af7b8075-8acf-4d4a-8691-4cc72e610d6b",
   "metadata": {},
   "source": [
    "The ratings is scaled from 1 to 5 and are integer values"
   ]
  },
  {
   "cell_type": "code",
   "execution_count": 179,
   "id": "461c2a40-1192-42ff-bd16-b7d5aa7c2a30",
   "metadata": {},
   "outputs": [],
   "source": [
    "data.overall = data.overall.astype(int)"
   ]
  },
  {
   "cell_type": "code",
   "execution_count": 180,
   "id": "b83fe441-b82c-4914-b278-636570dfe711",
   "metadata": {},
   "outputs": [
    {
     "data": {
      "image/png": "[encoded data removed]",
      "text/plain": [
       "<Figure size 640x480 with 1 Axes>"
      ]
     },
     "metadata": {},
     "output_type": "display_data"
    }
   ],
   "source": [
    "sns.countplot(data=data, x='overall') \n",
    "plt.ylabel('Frequency')\n",
    "plt.xlabel('Overall Rating')\n",
    "plt.show()"
   ]
  },
  {
   "cell_type": "code",
   "execution_count": 187,
   "id": "4c3712e3-2dfa-46fd-8374-750d33b36e52",
   "metadata": {},
   "outputs": [
    {
     "data": {
      "image/png": "[encoded data removed]",
      "text/plain": [
       "<Figure size 640x480 with 1 Axes>"
      ]
     },
     "metadata": {},
     "output_type": "display_data"
    }
   ],
   "source": [
    "sns.histplot(x=data.reviewText.apply(lambda text: len(text.split(\" \"))), kde=True)\n",
    "plt.xlabel('Word Count')\n",
    "plt.xlabel('Frequency')\n",
    "plt.show()"
   ]
  },
  {
   "cell_type": "code",
   "execution_count": 186,
   "id": "f9061836-52a5-4133-b8ff-00345a0cb7ac",
   "metadata": {},
   "outputs": [
    {
     "data": {
      "image/png": "[encoded data removed]",
      "text/plain": [
       "<Figure size 640x480 with 1 Axes>"
      ]
     },
     "metadata": {},
     "output_type": "display_data"
    }
   ],
   "source": [
    "sns.boxplot(x=data.overall, y=data.reviewText.apply(lambda text: len(text.split(\" \"))))\n",
    "plt.ylabel('Word Count')\n",
    "plt.xlabel('Overall Rating')\n",
    "plt.show()"
   ]
  },
  {
   "cell_type": "code",
   "execution_count": null,
   "id": "2f211433-4f43-4c77-ad24-afa2c9382ece",
   "metadata": {},
   "outputs": [],
   "source": []
  }
 ],
 "metadata": {
  "kernelspec": {
   "display_name": "mlg-kernel",
   "language": "python",
   "name": "mlg-kernel"
  },
  "language_info": {
   "codemirror_mode": {
    "name": "ipython",
    "version": 3
   },
   "file_extension": ".py",
   "mimetype": "text/x-python",
   "name": "python",
   "nbconvert_exporter": "python",
   "pygments_lexer": "ipython3",
   "version": "3.12.3"
  }
 },
 "nbformat": 4,
 "nbformat_minor": 5
}
